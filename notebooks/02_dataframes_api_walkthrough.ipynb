{
 "cells": [
  {
   "cell_type": "markdown",
   "metadata": {},
   "source": [
    "# Spark DataFrames in Python"
   ]
  },
  {
   "cell_type": "markdown",
   "metadata": {},
   "source": [
    "## Jupyter essentials\n",
    "\n",
    "#### To display keyboard shortcuts type Esc+H\n",
    "\n",
    "#### There are two important types of cells in Jupyter: code and markdown\n",
    "#### Code is default, it means that whatever you type in the cell is evaluated as code\n",
    "#### Markdown cell serves for adding text labels that help to organize the code\n",
    "\n",
    "#### You can execute the cell by clicking \"run cell\" button or by pressing Shirt+Enter"
   ]
  },
  {
   "cell_type": "markdown",
   "metadata": {},
   "source": [
    "### Start spark application and check if spark session object is available"
   ]
  },
  {
   "cell_type": "code",
   "execution_count": 1,
   "metadata": {},
   "outputs": [
    {
     "data": {
      "text/html": [
       "\n",
       "            <div>\n",
       "                <p><b>SparkSession - hive</b></p>\n",
       "                \n",
       "        <div>\n",
       "            <p><b>SparkContext</b></p>\n",
       "\n",
       "            <p><a href=\"http://hive-cluster-m.c.getindata-training.internal:4040\">Spark UI</a></p>\n",
       "\n",
       "            <dl>\n",
       "              <dt>Version</dt>\n",
       "                <dd><code>v2.3.2</code></dd>\n",
       "              <dt>Master</dt>\n",
       "                <dd><code>yarn</code></dd>\n",
       "              <dt>AppName</dt>\n",
       "                <dd><code>pyspark-shell</code></dd>\n",
       "            </dl>\n",
       "        </div>\n",
       "        \n",
       "            </div>\n",
       "        "
      ],
      "text/plain": [
       "<pyspark.sql.session.SparkSession at 0x7f643017c630>"
      ]
     },
     "execution_count": 1,
     "metadata": {},
     "output_type": "execute_result"
    }
   ],
   "source": [
    "spark"
   ]
  },
  {
   "cell_type": "markdown",
   "metadata": {},
   "source": [
    "### Creating DataFrame from Hive Table"
   ]
  },
  {
   "cell_type": "code",
   "execution_count": 2,
   "metadata": {},
   "outputs": [
    {
     "data": {
      "text/plain": [
       "DataFrame[unique_key: string, taxi_id: string, trip_start_timestamp: string, trip_end_timestamp: string, trip_seconds: bigint, trip_miles: float, pickup_census_tract: bigint, dropoff_census_tract: bigint, pickup_community_area: bigint, dropoff_community_area: bigint, fare: float, tips: float, tolls: float, extras: float, trip_total: float, payment_type: string, company: string, yyyymm: string]"
      ]
     },
     "execution_count": 2,
     "metadata": {},
     "output_type": "execute_result"
    }
   ],
   "source": [
    "spark.read.table(\"tomek.taxi_cleaned\")"
   ]
  },
  {
   "cell_type": "code",
   "execution_count": 3,
   "metadata": {},
   "outputs": [
    {
     "name": "stdout",
     "output_type": "stream",
     "text": [
      "+--------------------+------------+------+\n",
      "|trip_start_timestamp|payment_type|  fare|\n",
      "+--------------------+------------+------+\n",
      "|2017-05-22 12:00:...|        Cash|1000.0|\n",
      "|2017-05-24 12:45:...|        Cash| 800.0|\n",
      "|2017-05-04 09:30:...| Credit Card|4750.0|\n",
      "+--------------------+------------+------+\n",
      "only showing top 3 rows\n",
      "\n"
     ]
    }
   ],
   "source": [
    "spark.sql(\"\"\"\n",
    "    SELECT\n",
    "        trip_start_timestamp,\n",
    "        payment_type,\n",
    "        fare\n",
    "    FROM tomek.taxi_cleaned\n",
    "    WHERE CAST(extras AS INT) > 0\n",
    "\"\"\").show(3)"
   ]
  },
  {
   "cell_type": "code",
   "execution_count": 4,
   "metadata": {},
   "outputs": [],
   "source": [
    "import numpy as np"
   ]
  },
  {
   "cell_type": "code",
   "execution_count": 5,
   "metadata": {},
   "outputs": [],
   "source": [
    "month_to_analyze = \"{yyyy}{mm}\".format(yyyy=str(np.random.choice(range(2013,2017))),\n",
    "                                       mm=\"{:02d}\".format(np.random.choice(range(12))+1))"
   ]
  },
  {
   "cell_type": "code",
   "execution_count": 6,
   "metadata": {},
   "outputs": [
    {
     "name": "stdout",
     "output_type": "stream",
     "text": [
      "201407\n"
     ]
    }
   ],
   "source": [
    "print(month_to_analyze)"
   ]
  },
  {
   "cell_type": "code",
   "execution_count": 7,
   "metadata": {},
   "outputs": [],
   "source": [
    "taxi = spark.sql(\"\"\"\n",
    "    SELECT *\n",
    "    FROM tomek.taxi_cleaned\n",
    "    WHERE yyyymm = {yyyymm}\n",
    "\"\"\".format(yyyymm=month_to_analyze))"
   ]
  },
  {
   "cell_type": "code",
   "execution_count": 8,
   "metadata": {},
   "outputs": [
    {
     "name": "stdout",
     "output_type": "stream",
     "text": [
      "+--------------------+--------------------+--------------------+--------------------+------------+----------+-------------------+--------------------+---------------------+----------------------+------+----+-----+------+----------+------------+--------------------+------+\n",
      "|          unique_key|             taxi_id|trip_start_timestamp|  trip_end_timestamp|trip_seconds|trip_miles|pickup_census_tract|dropoff_census_tract|pickup_community_area|dropoff_community_area|  fare|tips|tolls|extras|trip_total|payment_type|             company|yyyymm|\n",
      "+--------------------+--------------------+--------------------+--------------------+------------+----------+-------------------+--------------------+---------------------+----------------------+------+----+-----+------+----------+------------+--------------------+------+\n",
      "|7bf2b8b50e96833e8...|2e92587d66f35bf32...|2014-07-21 11:15:...|2014-07-21 11:15:...|         180|      0.05|        17031062100|         17031062000|                    6|                     6| 425.0| 0.0|  0.0|   0.0|     425.0|        Cash|                    |201407|\n",
      "|7c5333df7b7e6e1dd...|bd374a36d0bd458e1...|2014-07-10 07:45:...|2014-07-10 08:00:...|         600|       2.2|        17031839100|         17031071500|                   32|                     7| 825.0| 0.0|  0.0|   0.0|     825.0|        Cash|                    |201407|\n",
      "|7c2596402deb6843b...|246cd6c5a12db3ef0...|2014-07-19 08:00:...|2014-07-19 08:15:...|         660|       4.2|               null|                null|                    7|                    32|1165.0| 0.0|  0.0| 100.0|    1265.0|        Cash|Taxi Affiliation ...|201407|\n",
      "+--------------------+--------------------+--------------------+--------------------+------------+----------+-------------------+--------------------+---------------------+----------------------+------+----+-----+------+----------+------------+--------------------+------+\n",
      "only showing top 3 rows\n",
      "\n"
     ]
    }
   ],
   "source": [
    "taxi.show(3)"
   ]
  },
  {
   "cell_type": "markdown",
   "metadata": {},
   "source": [
    "### Creating DataFrame from CSV file"
   ]
  },
  {
   "cell_type": "code",
   "execution_count": 9,
   "metadata": {},
   "outputs": [
    {
     "name": "stdout",
     "output_type": "stream",
     "text": [
      "+----+---+---+---+\n",
      "|name|  g|  a|  s|\n",
      "+----+---+---+---+\n",
      "|   a|  2|  3|  4|\n",
      "|   b| 54|  2|  6|\n",
      "|   c|  1|  1|  1|\n",
      "+----+---+---+---+\n",
      "only showing top 3 rows\n",
      "\n"
     ]
    }
   ],
   "source": [
    "fromcsv = spark.read.csv(\n",
    "    \"gs://dataproc-43f8dac5-83ec-43bc-9165-c8d872ee1626-us-central1/notebooks/tomek/test.csv\",\n",
    "    header=True,\n",
    "    inferSchema=True,\n",
    "    mode=\"DROPMALFORMED\",\n",
    "    sep=\"|\"\n",
    ")\n",
    "fromcsv.show(3)"
   ]
  },
  {
   "cell_type": "code",
   "execution_count": 10,
   "metadata": {},
   "outputs": [
    {
     "name": "stdout",
     "output_type": "stream",
     "text": [
      "cat: home/workshop/test.csv: No such file or directory\r\n"
     ]
    }
   ],
   "source": [
    "! cat home/workshop/test.csv"
   ]
  },
  {
   "cell_type": "markdown",
   "metadata": {},
   "source": [
    "#### Spark allows us to run standard SQL on DataFrames. In order to do so you have to first register your DataFrame as temporary view with Spark"
   ]
  },
  {
   "cell_type": "code",
   "execution_count": 11,
   "metadata": {},
   "outputs": [],
   "source": [
    "fromcsv.createOrReplaceTempView(\"fromcsv\")"
   ]
  },
  {
   "cell_type": "markdown",
   "metadata": {},
   "source": [
    "#### And only when DataFrame is registered as temporary table you can run sql queries against it"
   ]
  },
  {
   "cell_type": "code",
   "execution_count": 12,
   "metadata": {},
   "outputs": [
    {
     "name": "stdout",
     "output_type": "stream",
     "text": [
      "+----+-----+----+---+\n",
      "|name|    g|   a|  s|\n",
      "+----+-----+----+---+\n",
      "|   b|   54|   2|  6|\n",
      "|   z|23451|1234|123|\n",
      "+----+-----+----+---+\n",
      "\n"
     ]
    }
   ],
   "source": [
    "spark.sql(\"select * from fromcsv where s > 5\").show(5)"
   ]
  },
  {
   "cell_type": "markdown",
   "metadata": {},
   "source": [
    "## Basic DataFrames Operations"
   ]
  },
  {
   "cell_type": "markdown",
   "metadata": {},
   "source": [
    "#### Check what is in DataFrame"
   ]
  },
  {
   "cell_type": "code",
   "execution_count": 13,
   "metadata": {},
   "outputs": [
    {
     "name": "stdout",
     "output_type": "stream",
     "text": [
      "+--------------------+--------------------+--------------------+--------------------+------------+----------+-------------------+--------------------+---------------------+----------------------+------+----+-----+------+----------+------------+--------------------+------+\n",
      "|          unique_key|             taxi_id|trip_start_timestamp|  trip_end_timestamp|trip_seconds|trip_miles|pickup_census_tract|dropoff_census_tract|pickup_community_area|dropoff_community_area|  fare|tips|tolls|extras|trip_total|payment_type|             company|yyyymm|\n",
      "+--------------------+--------------------+--------------------+--------------------+------------+----------+-------------------+--------------------+---------------------+----------------------+------+----+-----+------+----------+------------+--------------------+------+\n",
      "|7bf2b8b50e96833e8...|2e92587d66f35bf32...|2014-07-21 11:15:...|2014-07-21 11:15:...|         180|      0.05|        17031062100|         17031062000|                    6|                     6| 425.0| 0.0|  0.0|   0.0|     425.0|        Cash|                    |201407|\n",
      "|7c5333df7b7e6e1dd...|bd374a36d0bd458e1...|2014-07-10 07:45:...|2014-07-10 08:00:...|         600|       2.2|        17031839100|         17031071500|                   32|                     7| 825.0| 0.0|  0.0|   0.0|     825.0|        Cash|                    |201407|\n",
      "|7c2596402deb6843b...|246cd6c5a12db3ef0...|2014-07-19 08:00:...|2014-07-19 08:15:...|         660|       4.2|               null|                null|                    7|                    32|1165.0| 0.0|  0.0| 100.0|    1265.0|        Cash|Taxi Affiliation ...|201407|\n",
      "+--------------------+--------------------+--------------------+--------------------+------------+----------+-------------------+--------------------+---------------------+----------------------+------+----+-----+------+----------+------------+--------------------+------+\n",
      "only showing top 3 rows\n",
      "\n"
     ]
    }
   ],
   "source": [
    "taxi.show(3)"
   ]
  },
  {
   "cell_type": "code",
   "execution_count": 14,
   "metadata": {},
   "outputs": [
    {
     "name": "stdout",
     "output_type": "stream",
     "text": [
      "+------------+--------------------+\n",
      "|payment_type|             company|\n",
      "+------------+--------------------+\n",
      "|        Cash|                    |\n",
      "|        Cash|                    |\n",
      "|        Cash|Taxi Affiliation ...|\n",
      "+------------+--------------------+\n",
      "only showing top 3 rows\n",
      "\n"
     ]
    }
   ],
   "source": [
    "taxi.select(\"payment_type\",\"company\").show(3)"
   ]
  },
  {
   "cell_type": "markdown",
   "metadata": {},
   "source": [
    "#### Check what is DataFrame schema"
   ]
  },
  {
   "cell_type": "code",
   "execution_count": 15,
   "metadata": {},
   "outputs": [
    {
     "name": "stdout",
     "output_type": "stream",
     "text": [
      "root\n",
      " |-- unique_key: string (nullable = true)\n",
      " |-- taxi_id: string (nullable = true)\n",
      " |-- trip_start_timestamp: string (nullable = true)\n",
      " |-- trip_end_timestamp: string (nullable = true)\n",
      " |-- trip_seconds: long (nullable = true)\n",
      " |-- trip_miles: float (nullable = true)\n",
      " |-- pickup_census_tract: long (nullable = true)\n",
      " |-- dropoff_census_tract: long (nullable = true)\n",
      " |-- pickup_community_area: long (nullable = true)\n",
      " |-- dropoff_community_area: long (nullable = true)\n",
      " |-- fare: float (nullable = true)\n",
      " |-- tips: float (nullable = true)\n",
      " |-- tolls: float (nullable = true)\n",
      " |-- extras: float (nullable = true)\n",
      " |-- trip_total: float (nullable = true)\n",
      " |-- payment_type: string (nullable = true)\n",
      " |-- company: string (nullable = true)\n",
      " |-- yyyymm: string (nullable = true)\n",
      "\n"
     ]
    }
   ],
   "source": [
    "taxi.printSchema()"
   ]
  },
  {
   "cell_type": "markdown",
   "metadata": {},
   "source": [
    "### Apply function"
   ]
  },
  {
   "cell_type": "code",
   "execution_count": 16,
   "metadata": {},
   "outputs": [],
   "source": [
    "from pyspark.sql.functions import col,lower"
   ]
  },
  {
   "cell_type": "markdown",
   "metadata": {},
   "source": [
    "#### How to reference to column"
   ]
  },
  {
   "cell_type": "code",
   "execution_count": 17,
   "metadata": {},
   "outputs": [
    {
     "name": "stdout",
     "output_type": "stream",
     "text": [
      "+--------------------+\n",
      "|      lower(company)|\n",
      "+--------------------+\n",
      "|                    |\n",
      "|                    |\n",
      "|taxi affiliation ...|\n",
      "+--------------------+\n",
      "only showing top 3 rows\n",
      "\n"
     ]
    }
   ],
   "source": [
    "taxi.select(lower(taxi.company)).show(3)"
   ]
  },
  {
   "cell_type": "markdown",
   "metadata": {},
   "source": [
    "#### Another way to reference to column + output column renaming"
   ]
  },
  {
   "cell_type": "code",
   "execution_count": 18,
   "metadata": {},
   "outputs": [
    {
     "name": "stdout",
     "output_type": "stream",
     "text": [
      "+--------------------+\n",
      "|     lowered_company|\n",
      "+--------------------+\n",
      "|                    |\n",
      "|                    |\n",
      "|taxi affiliation ...|\n",
      "+--------------------+\n",
      "only showing top 3 rows\n",
      "\n"
     ]
    }
   ],
   "source": [
    "taxi.select(lower(col(\"company\")).alias(\"lowered_company\")).show(3)"
   ]
  },
  {
   "cell_type": "markdown",
   "metadata": {},
   "source": [
    "### Add new column"
   ]
  },
  {
   "cell_type": "code",
   "execution_count": 19,
   "metadata": {},
   "outputs": [
    {
     "name": "stdout",
     "output_type": "stream",
     "text": [
      "+---------+\n",
      "|has_tolls|\n",
      "+---------+\n",
      "|    false|\n",
      "|    false|\n",
      "|    false|\n",
      "+---------+\n",
      "only showing top 3 rows\n",
      "\n"
     ]
    }
   ],
   "source": [
    "taxi = taxi.withColumn('has_tolls', col(\"tolls\") > 0)\n",
    "taxi.select(\"has_tolls\").show(3)"
   ]
  },
  {
   "cell_type": "code",
   "execution_count": 20,
   "metadata": {},
   "outputs": [
    {
     "name": "stdout",
     "output_type": "stream",
     "text": [
      "root\n",
      " |-- unique_key: string (nullable = true)\n",
      " |-- taxi_id: string (nullable = true)\n",
      " |-- trip_start_timestamp: string (nullable = true)\n",
      " |-- trip_end_timestamp: string (nullable = true)\n",
      " |-- trip_seconds: long (nullable = true)\n",
      " |-- trip_miles: float (nullable = true)\n",
      " |-- pickup_census_tract: long (nullable = true)\n",
      " |-- dropoff_census_tract: long (nullable = true)\n",
      " |-- pickup_community_area: long (nullable = true)\n",
      " |-- dropoff_community_area: long (nullable = true)\n",
      " |-- fare: float (nullable = true)\n",
      " |-- tips: float (nullable = true)\n",
      " |-- tolls: float (nullable = true)\n",
      " |-- extras: float (nullable = true)\n",
      " |-- trip_total: float (nullable = true)\n",
      " |-- payment_type: string (nullable = true)\n",
      " |-- company: string (nullable = true)\n",
      " |-- yyyymm: string (nullable = true)\n",
      " |-- has_tolls: boolean (nullable = true)\n",
      "\n"
     ]
    }
   ],
   "source": [
    "taxi.printSchema()"
   ]
  },
  {
   "cell_type": "code",
   "execution_count": 21,
   "metadata": {},
   "outputs": [],
   "source": [
    "# do the same using standard sql\n",
    "# just create a new column\n",
    "taxi = spark.sql(\"\"\"\n",
    "    SELECT *, case when tolls > 0 then TRUE else FALSE end as has_tools\n",
    "    FROM tomek.taxi_cleaned\n",
    "\"\"\")"
   ]
  },
  {
   "cell_type": "code",
   "execution_count": 22,
   "metadata": {},
   "outputs": [
    {
     "name": "stdout",
     "output_type": "stream",
     "text": [
      "root\n",
      " |-- unique_key: string (nullable = true)\n",
      " |-- taxi_id: string (nullable = true)\n",
      " |-- trip_start_timestamp: string (nullable = true)\n",
      " |-- trip_end_timestamp: string (nullable = true)\n",
      " |-- trip_seconds: long (nullable = true)\n",
      " |-- trip_miles: float (nullable = true)\n",
      " |-- pickup_census_tract: long (nullable = true)\n",
      " |-- dropoff_census_tract: long (nullable = true)\n",
      " |-- pickup_community_area: long (nullable = true)\n",
      " |-- dropoff_community_area: long (nullable = true)\n",
      " |-- fare: float (nullable = true)\n",
      " |-- tips: float (nullable = true)\n",
      " |-- tolls: float (nullable = true)\n",
      " |-- extras: float (nullable = true)\n",
      " |-- trip_total: float (nullable = true)\n",
      " |-- payment_type: string (nullable = true)\n",
      " |-- company: string (nullable = true)\n",
      " |-- yyyymm: string (nullable = true)\n",
      " |-- has_tools: boolean (nullable = false)\n",
      "\n"
     ]
    }
   ],
   "source": [
    "taxi.printSchema()"
   ]
  },
  {
   "cell_type": "markdown",
   "metadata": {},
   "source": [
    "### Rename a column"
   ]
  },
  {
   "cell_type": "code",
   "execution_count": 23,
   "metadata": {},
   "outputs": [],
   "source": [
    "taxi = taxi.withColumnRenamed(\"has_tolls\",\"tolls_paid\")"
   ]
  },
  {
   "cell_type": "code",
   "execution_count": 24,
   "metadata": {},
   "outputs": [],
   "source": [
    "# spark is not warning when column with such name does not exists in case of withColumnRenamed\n",
    "taxi = taxi.withColumnRenamed(\"aaaaaaa\",\"vvvvvvv\")"
   ]
  },
  {
   "cell_type": "code",
   "execution_count": 25,
   "metadata": {},
   "outputs": [
    {
     "name": "stdout",
     "output_type": "stream",
     "text": [
      "root\n",
      " |-- unique_key: string (nullable = true)\n",
      " |-- taxi_id: string (nullable = true)\n",
      " |-- trip_start_timestamp: string (nullable = true)\n",
      " |-- trip_end_timestamp: string (nullable = true)\n",
      " |-- trip_seconds: long (nullable = true)\n",
      " |-- trip_miles: float (nullable = true)\n",
      " |-- pickup_census_tract: long (nullable = true)\n",
      " |-- dropoff_census_tract: long (nullable = true)\n",
      " |-- pickup_community_area: long (nullable = true)\n",
      " |-- dropoff_community_area: long (nullable = true)\n",
      " |-- fare: float (nullable = true)\n",
      " |-- tips: float (nullable = true)\n",
      " |-- tolls: float (nullable = true)\n",
      " |-- extras: float (nullable = true)\n",
      " |-- trip_total: float (nullable = true)\n",
      " |-- payment_type: string (nullable = true)\n",
      " |-- company: string (nullable = true)\n",
      " |-- yyyymm: string (nullable = true)\n",
      " |-- has_tools: boolean (nullable = false)\n",
      "\n"
     ]
    }
   ],
   "source": [
    "taxi.printSchema()"
   ]
  },
  {
   "cell_type": "code",
   "execution_count": 26,
   "metadata": {},
   "outputs": [
    {
     "name": "stdout",
     "output_type": "stream",
     "text": [
      "+----------+\n",
      "|tools_paid|\n",
      "+----------+\n",
      "|     false|\n",
      "|     false|\n",
      "|     false|\n",
      "+----------+\n",
      "only showing top 3 rows\n",
      "\n"
     ]
    }
   ],
   "source": [
    "# do the same using standard sql\n",
    "taxi.createOrReplaceTempView(\"taxi\")\n",
    "spark.sql(\"SELECT has_tools as tools_paid FROM taxi\").show(3)"
   ]
  },
  {
   "cell_type": "markdown",
   "metadata": {},
   "source": [
    "### Drop column"
   ]
  },
  {
   "cell_type": "code",
   "execution_count": 27,
   "metadata": {},
   "outputs": [
    {
     "name": "stdout",
     "output_type": "stream",
     "text": [
      "root\n",
      " |-- trip_start_timestamp: string (nullable = true)\n",
      " |-- trip_end_timestamp: string (nullable = true)\n",
      " |-- trip_seconds: long (nullable = true)\n",
      " |-- trip_miles: float (nullable = true)\n",
      " |-- pickup_census_tract: long (nullable = true)\n",
      " |-- dropoff_census_tract: long (nullable = true)\n",
      " |-- pickup_community_area: long (nullable = true)\n",
      " |-- dropoff_community_area: long (nullable = true)\n",
      " |-- fare: float (nullable = true)\n",
      " |-- tips: float (nullable = true)\n",
      " |-- tolls: float (nullable = true)\n",
      " |-- extras: float (nullable = true)\n",
      " |-- trip_total: float (nullable = true)\n",
      " |-- payment_type: string (nullable = true)\n",
      " |-- company: string (nullable = true)\n",
      " |-- yyyymm: string (nullable = true)\n",
      " |-- has_tools: boolean (nullable = false)\n",
      "\n"
     ]
    }
   ],
   "source": [
    "taxi.drop('unique_key').drop('taxi_id').printSchema()"
   ]
  },
  {
   "cell_type": "markdown",
   "metadata": {},
   "source": [
    "### Filter conditions"
   ]
  },
  {
   "cell_type": "code",
   "execution_count": 28,
   "metadata": {},
   "outputs": [
    {
     "name": "stdout",
     "output_type": "stream",
     "text": [
      "+------------+------+\n",
      "|payment_type|  fare|\n",
      "+------------+------+\n",
      "|        Cash|1550.0|\n",
      "|        Cash| 950.0|\n",
      "|        Cash| 500.0|\n",
      "+------------+------+\n",
      "only showing top 3 rows\n",
      "\n"
     ]
    }
   ],
   "source": [
    "taxi.filter(taxi.payment_type == 'Cash').select(\"payment_type\",\"fare\").show(3)"
   ]
  },
  {
   "cell_type": "code",
   "execution_count": 29,
   "metadata": {},
   "outputs": [
    {
     "name": "stdout",
     "output_type": "stream",
     "text": [
      "+------------+------+\n",
      "|payment_type|  fare|\n",
      "+------------+------+\n",
      "|        Cash|1225.0|\n",
      "|        Cash| 845.0|\n",
      "|        Cash|1065.0|\n",
      "+------------+------+\n",
      "only showing top 3 rows\n",
      "\n"
     ]
    }
   ],
   "source": [
    "taxi.filter(\"payment_type = 'Cash'\").select(\"payment_type\",\"fare\").show(3)"
   ]
  },
  {
   "cell_type": "code",
   "execution_count": 30,
   "metadata": {},
   "outputs": [
    {
     "name": "stdout",
     "output_type": "stream",
     "text": [
      "+------------+------+\n",
      "|payment_type|  fare|\n",
      "+------------+------+\n",
      "|        Cash|1550.0|\n",
      "|        Cash| 950.0|\n",
      "|        Cash| 500.0|\n",
      "+------------+------+\n",
      "only showing top 3 rows\n",
      "\n"
     ]
    }
   ],
   "source": [
    "# do the same using standard sql\n",
    "spark.sql(\"\"\"\n",
    "    SELECT payment_type, fare\n",
    "    FROM taxi\n",
    "    WHERE payment_type = 'Cash'\n",
    "\"\"\").show(3)"
   ]
  },
  {
   "cell_type": "markdown",
   "metadata": {},
   "source": [
    "### Parenthesis required when joining multiple conditions"
   ]
  },
  {
   "cell_type": "code",
   "execution_count": 31,
   "metadata": {},
   "outputs": [
    {
     "name": "stdout",
     "output_type": "stream",
     "text": [
      "+------------+----------+\n",
      "|payment_type|trip_miles|\n",
      "+------------+----------+\n",
      "|        Cash|      58.0|\n",
      "|        Cash|      65.9|\n",
      "|        Cash|      37.8|\n",
      "+------------+----------+\n",
      "only showing top 3 rows\n",
      "\n"
     ]
    }
   ],
   "source": [
    "taxi.filter((taxi.payment_type == 'Cash') & (taxi.trip_miles > 30)).select(\"payment_type\",\"trip_miles\").show(3)"
   ]
  },
  {
   "cell_type": "code",
   "execution_count": 32,
   "metadata": {},
   "outputs": [
    {
     "name": "stdout",
     "output_type": "stream",
     "text": [
      "+------------+----------+\n",
      "|payment_type|trip_miles|\n",
      "+------------+----------+\n",
      "|        Cash|       1.8|\n",
      "|        Cash|       2.8|\n",
      "|        Cash|       3.2|\n",
      "+------------+----------+\n",
      "only showing top 3 rows\n",
      "\n"
     ]
    }
   ],
   "source": [
    "taxi.filter((taxi.payment_type == 'Cash') | (taxi.trip_miles > 30)).select(\"payment_type\",\"trip_miles\").show(3)"
   ]
  },
  {
   "cell_type": "markdown",
   "metadata": {},
   "source": [
    "### Aggregation"
   ]
  },
  {
   "cell_type": "code",
   "execution_count": 33,
   "metadata": {},
   "outputs": [
    {
     "data": {
      "text/plain": [
       "78470890"
      ]
     },
     "execution_count": 33,
     "metadata": {},
     "output_type": "execute_result"
    }
   ],
   "source": [
    "taxi.count()"
   ]
  },
  {
   "cell_type": "code",
   "execution_count": 34,
   "metadata": {},
   "outputs": [],
   "source": [
    "# (optional) do the same using standard sql\n",
    "try:\n",
    "    spark.sql(...)\n",
    "except:\n",
    "    pass"
   ]
  },
  {
   "cell_type": "code",
   "execution_count": 35,
   "metadata": {},
   "outputs": [
    {
     "name": "stdout",
     "output_type": "stream",
     "text": [
      "+------------+--------+\n",
      "|payment_type|   count|\n",
      "+------------+--------+\n",
      "| Credit Card|29757998|\n",
      "|        Cash|48712892|\n",
      "+------------+--------+\n",
      "\n",
      "CPU times: user 8 ms, sys: 4 ms, total: 12 ms\n",
      "Wall time: 14.7 s\n"
     ]
    }
   ],
   "source": [
    "%%time\n",
    "taxi.groupBy(\"payment_type\").count().show()"
   ]
  },
  {
   "cell_type": "code",
   "execution_count": 36,
   "metadata": {},
   "outputs": [
    {
     "name": "stdout",
     "output_type": "stream",
     "text": [
      "+--------+\n",
      "|count(1)|\n",
      "+--------+\n",
      "|29757998|\n",
      "|48712892|\n",
      "+--------+\n",
      "\n",
      "CPU times: user 0 ns, sys: 8 ms, total: 8 ms\n",
      "Wall time: 7.87 s\n"
     ]
    }
   ],
   "source": [
    "%%time\n",
    "spark.sql(\"\"\"\n",
    "    SELECT count(*)\n",
    "    FROM taxi\n",
    "    GROUP BY payment_type\n",
    "\"\"\").show()"
   ]
  },
  {
   "cell_type": "code",
   "execution_count": 37,
   "metadata": {},
   "outputs": [
    {
     "name": "stdout",
     "output_type": "stream",
     "text": [
      "+------------+------------------+\n",
      "|payment_type|         avg(fare)|\n",
      "+------------+------------------+\n",
      "| Credit Card|1549.7433185189407|\n",
      "|        Cash|1172.3793519998771|\n",
      "+------------+------------------+\n",
      "\n",
      "CPU times: user 4 ms, sys: 4 ms, total: 8 ms\n",
      "Wall time: 6.63 s\n"
     ]
    }
   ],
   "source": [
    "%%time\n",
    "taxi.groupBy(\"payment_type\").avg(\"fare\").show(5)"
   ]
  },
  {
   "cell_type": "code",
   "execution_count": 38,
   "metadata": {},
   "outputs": [],
   "source": [
    "# (optional) do the same using standard sql\n",
    "try:\n",
    "    spark.sql(...)\n",
    "except:\n",
    "    pass"
   ]
  },
  {
   "cell_type": "markdown",
   "metadata": {},
   "source": [
    "### Sorting"
   ]
  },
  {
   "cell_type": "code",
   "execution_count": 39,
   "metadata": {},
   "outputs": [
    {
     "name": "stdout",
     "output_type": "stream",
     "text": [
      "+----------+------------+------+\n",
      "|trip_miles|trip_seconds|  fare|\n",
      "+----------+------------+------+\n",
      "|     100.0|         960|2185.0|\n",
      "|     100.0|        1020|2205.0|\n",
      "|     100.0|        1860|3975.0|\n",
      "+----------+------------+------+\n",
      "only showing top 3 rows\n",
      "\n"
     ]
    }
   ],
   "source": [
    "taxi.sort(taxi.trip_miles.desc()).select(\"trip_miles\",\"trip_seconds\",\"fare\").show(3)"
   ]
  },
  {
   "cell_type": "code",
   "execution_count": 40,
   "metadata": {},
   "outputs": [
    {
     "name": "stdout",
     "output_type": "stream",
     "text": [
      "+--------------------+--------+\n",
      "|             company|   count|\n",
      "+--------------------+--------+\n",
      "|                    |39356942|\n",
      "|Taxi Affiliation ...|18807000|\n",
      "|Dispatch Taxi Aff...| 7538486|\n",
      "+--------------------+--------+\n",
      "only showing top 3 rows\n",
      "\n"
     ]
    }
   ],
   "source": [
    "taxi.groupBy(\"company\").count().sort(col(\"count\").desc()).show(3)"
   ]
  },
  {
   "cell_type": "markdown",
   "metadata": {},
   "source": [
    "### Multiple aggregates"
   ]
  },
  {
   "cell_type": "code",
   "execution_count": 41,
   "metadata": {},
   "outputs": [],
   "source": [
    "from pyspark.sql.functions import min,max"
   ]
  },
  {
   "cell_type": "code",
   "execution_count": 42,
   "metadata": {},
   "outputs": [],
   "source": [
    "# We've overwritten Python min and max functions in previous cell\n",
    "try:\n",
    "    min([10,2])\n",
    "except:\n",
    "    pass"
   ]
  },
  {
   "cell_type": "code",
   "execution_count": 43,
   "metadata": {},
   "outputs": [
    {
     "name": "stdout",
     "output_type": "stream",
     "text": [
      "+------------+--------+--------+\n",
      "|payment_type|smallest| biggest|\n",
      "+------------+--------+--------+\n",
      "| Credit Card|     1.0| 85000.0|\n",
      "|        Cash|     1.0|990045.0|\n",
      "+------------+--------+--------+\n",
      "\n"
     ]
    }
   ],
   "source": [
    "taxi\\\n",
    "    .groupBy(\"payment_type\")\\\n",
    "    .agg(min(\"fare\").alias(\"smallest\"),\n",
    "         max(\"fare\").alias(\"biggest\")).show(3)"
   ]
  },
  {
   "cell_type": "markdown",
   "metadata": {},
   "source": [
    "## Joins"
   ]
  },
  {
   "cell_type": "code",
   "execution_count": 44,
   "metadata": {},
   "outputs": [],
   "source": [
    "taxi_rides_per_taxi = taxi.groupBy(\"taxi_id\").count().withColumnRenamed(\"count\",\"num_rides\")"
   ]
  },
  {
   "cell_type": "code",
   "execution_count": 45,
   "metadata": {},
   "outputs": [
    {
     "name": "stdout",
     "output_type": "stream",
     "text": [
      "+--------------------+---------+\n",
      "|             taxi_id|num_rides|\n",
      "+--------------------+---------+\n",
      "|0e21caaf401f961b7...|    13753|\n",
      "|bb7eb49d01457ba3d...|    18479|\n",
      "|a8aee50b5b0787156...|    13245|\n",
      "+--------------------+---------+\n",
      "only showing top 3 rows\n",
      "\n"
     ]
    }
   ],
   "source": [
    "taxi_rides_per_taxi.show(3)"
   ]
  },
  {
   "cell_type": "code",
   "execution_count": 46,
   "metadata": {},
   "outputs": [
    {
     "name": "stdout",
     "output_type": "stream",
     "text": [
      "+--------------------+-------+---------+\n",
      "|             taxi_id|company|num_rides|\n",
      "+--------------------+-------+---------+\n",
      "|0678f31a979c4f311...|       |      328|\n",
      "|0678f31a979c4f311...|       |      328|\n",
      "|0678f31a979c4f311...|       |      328|\n",
      "+--------------------+-------+---------+\n",
      "only showing top 3 rows\n",
      "\n"
     ]
    }
   ],
   "source": [
    "taxi.select('taxi_id','company').join(taxi_rides_per_taxi, 'taxi_id').show(3)"
   ]
  },
  {
   "cell_type": "markdown",
   "metadata": {},
   "source": [
    "### Selecting join mode"
   ]
  },
  {
   "cell_type": "code",
   "execution_count": 47,
   "metadata": {},
   "outputs": [
    {
     "name": "stdout",
     "output_type": "stream",
     "text": [
      "+--------------------+-------+---------+\n",
      "|             taxi_id|company|num_rides|\n",
      "+--------------------+-------+---------+\n",
      "|0678f31a979c4f311...|       |     null|\n",
      "|0678f31a979c4f311...|       |     null|\n",
      "|0678f31a979c4f311...|       |     null|\n",
      "+--------------------+-------+---------+\n",
      "only showing top 3 rows\n",
      "\n"
     ]
    }
   ],
   "source": [
    "taxi.select('taxi_id','company').join(taxi_rides_per_taxi.sample(False,0.01), 'taxi_id','left').show(3)"
   ]
  },
  {
   "cell_type": "markdown",
   "metadata": {},
   "source": [
    "## Custom functions"
   ]
  },
  {
   "cell_type": "markdown",
   "metadata": {},
   "source": [
    "#### Sample function that extracts month from trip_start_timestamp"
   ]
  },
  {
   "cell_type": "code",
   "execution_count": 48,
   "metadata": {},
   "outputs": [],
   "source": [
    "def extract_month(value):\n",
    "    return value[5:7]"
   ]
  },
  {
   "cell_type": "code",
   "execution_count": 49,
   "metadata": {},
   "outputs": [
    {
     "name": "stdout",
     "output_type": "stream",
     "text": [
      "+-----------------------------------+\n",
      "|extract_month(trip_start_timestamp)|\n",
      "+-----------------------------------+\n",
      "|                                 05|\n",
      "|                                 05|\n",
      "|                                 05|\n",
      "|                                 05|\n",
      "|                                 05|\n",
      "|                                 05|\n",
      "|                                 05|\n",
      "|                                 05|\n",
      "|                                 05|\n",
      "|                                 05|\n",
      "+-----------------------------------+\n",
      "only showing top 10 rows\n",
      "\n"
     ]
    }
   ],
   "source": [
    "from pyspark.sql.types import StringType, IntegerType\n",
    "from pyspark.sql.functions import udf\n",
    "udf_extract_month = udf(extract_month,StringType())\n",
    "\n",
    "taxi.select(udf_extract_month(taxi.trip_start_timestamp)).show(10)"
   ]
  },
  {
   "cell_type": "markdown",
   "metadata": {},
   "source": [
    "#### Please prepare now function that maps Cash to 1 and Credit Card to 0 for payment type"
   ]
  },
  {
   "cell_type": "code",
   "execution_count": 50,
   "metadata": {},
   "outputs": [],
   "source": [
    "def payment_type(value):\n",
    "    mapping = {'Cash': 1, 'Credit Card': 0}\n",
    "    return mapping[value]\n",
    "udf_payment_type = udf(payment_type, IntegerType())"
   ]
  },
  {
   "cell_type": "code",
   "execution_count": 51,
   "metadata": {},
   "outputs": [
    {
     "name": "stdout",
     "output_type": "stream",
     "text": [
      "+--------------------------+\n",
      "|payment_type(payment_type)|\n",
      "+--------------------------+\n",
      "|                         0|\n",
      "|                         0|\n",
      "|                         1|\n",
      "|                         1|\n",
      "|                         0|\n",
      "|                         1|\n",
      "|                         0|\n",
      "|                         1|\n",
      "|                         0|\n",
      "|                         1|\n",
      "+--------------------------+\n",
      "only showing top 10 rows\n",
      "\n"
     ]
    }
   ],
   "source": [
    "taxi.select(udf_payment_type(taxi.payment_type)).show(10)"
   ]
  }
 ],
 "metadata": {
  "celltoolbar": "Raw Cell Format",
  "kernelspec": {
   "display_name": "PySpark",
   "language": "python",
   "name": "pyspark"
  },
  "language_info": {
   "codemirror_mode": {
    "name": "ipython",
    "version": 3
   },
   "file_extension": ".py",
   "mimetype": "text/x-python",
   "name": "python",
   "nbconvert_exporter": "python",
   "pygments_lexer": "ipython3",
   "version": "3.6.5"
  }
 },
 "nbformat": 4,
 "nbformat_minor": 1
}