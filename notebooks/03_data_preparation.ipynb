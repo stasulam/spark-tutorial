{
 "cells": [
  {
   "cell_type": "markdown",
   "metadata": {},
   "source": [
    "# Data preparation"
   ]
  },
  {
   "cell_type": "markdown",
   "metadata": {},
   "source": [
    "### Now I would like to explore data using techniques shown in previous notebook"
   ]
  },
  {
   "cell_type": "markdown",
   "metadata": {},
   "source": [
    "#### Today we will be trying to predict if total fare will be payed by cash or by credit card. I would like you now to do some data exploration. One sample new variable is shown below. At the end I would like you to save your data in new table."
   ]
  },
  {
   "cell_type": "code",
   "execution_count": 1,
   "metadata": {},
   "outputs": [
    {
     "data": {
      "text/html": [
       "\n",
       "            <div>\n",
       "                <p><b>SparkSession - hive</b></p>\n",
       "                \n",
       "        <div>\n",
       "            <p><b>SparkContext</b></p>\n",
       "\n",
       "            <p><a href=\"http://hive-cluster-m.c.getindata-training.internal:4051\">Spark UI</a></p>\n",
       "\n",
       "            <dl>\n",
       "              <dt>Version</dt>\n",
       "                <dd><code>v2.3.2</code></dd>\n",
       "              <dt>Master</dt>\n",
       "                <dd><code>yarn</code></dd>\n",
       "              <dt>AppName</dt>\n",
       "                <dd><code>pyspark-shell</code></dd>\n",
       "            </dl>\n",
       "        </div>\n",
       "        \n",
       "            </div>\n",
       "        "
      ],
      "text/plain": [
       "<pyspark.sql.session.SparkSession at 0x7fb09b1527f0>"
      ]
     },
     "execution_count": 1,
     "metadata": {},
     "output_type": "execute_result"
    }
   ],
   "source": [
    "spark"
   ]
  },
  {
   "cell_type": "code",
   "execution_count": 2,
   "metadata": {},
   "outputs": [],
   "source": [
    "import matplotlib.pyplot as plt\n",
    "import seaborn as sns\n",
    "%matplotlib inline"
   ]
  },
  {
   "cell_type": "code",
   "execution_count": 3,
   "metadata": {},
   "outputs": [],
   "source": [
    "taxi = spark.sql(\"\"\"\n",
    "    SELECT\n",
    "        taxi_id,\n",
    "        trip_start_timestamp,\n",
    "        trip_end_timestamp,\n",
    "        trip_seconds,\n",
    "        trip_miles,\n",
    "        pickup_census_tract,\n",
    "        dropoff_census_tract,\n",
    "        pickup_community_area,\n",
    "        dropoff_community_area,\n",
    "        fare,\n",
    "        tips,\n",
    "        tolls,\n",
    "        extras,\n",
    "        trip_total,\n",
    "        company,\n",
    "        IF(payment_type='Credit Card',1,0) target\n",
    "    FROM\n",
    "        tomek.taxi_cleaned\n",
    "    WHERE\n",
    "        yyyymm BETWEEN 201601 AND 201612\n",
    "\"\"\")"
   ]
  },
  {
   "cell_type": "code",
   "execution_count": 4,
   "metadata": {},
   "outputs": [
    {
     "name": "stdout",
     "output_type": "stream",
     "text": [
      "root\n",
      " |-- taxi_id: string (nullable = true)\n",
      " |-- trip_start_timestamp: string (nullable = true)\n",
      " |-- trip_end_timestamp: string (nullable = true)\n",
      " |-- trip_seconds: long (nullable = true)\n",
      " |-- trip_miles: float (nullable = true)\n",
      " |-- pickup_census_tract: long (nullable = true)\n",
      " |-- dropoff_census_tract: long (nullable = true)\n",
      " |-- pickup_community_area: long (nullable = true)\n",
      " |-- dropoff_community_area: long (nullable = true)\n",
      " |-- fare: float (nullable = true)\n",
      " |-- tips: float (nullable = true)\n",
      " |-- tolls: float (nullable = true)\n",
      " |-- extras: float (nullable = true)\n",
      " |-- trip_total: float (nullable = true)\n",
      " |-- company: string (nullable = true)\n",
      " |-- target: integer (nullable = false)\n",
      "\n"
     ]
    }
   ],
   "source": [
    "taxi.printSchema()"
   ]
  },
  {
   "cell_type": "code",
   "execution_count": 5,
   "metadata": {},
   "outputs": [],
   "source": [
    "def extract_month(value):\n",
    "    return value[5:7]\n",
    "\n",
    "from pyspark.sql.types import StringType\n",
    "from pyspark.sql.functions import udf\n",
    "udf_extract_month = udf(extract_month,StringType())"
   ]
  },
  {
   "cell_type": "code",
   "execution_count": 6,
   "metadata": {},
   "outputs": [
    {
     "name": "stdout",
     "output_type": "stream",
     "text": [
      "+----------+-------------------+\n",
      "|trip_month|        avg(target)|\n",
      "+----------+-------------------+\n",
      "|        07| 0.4454716431945906|\n",
      "|        11|0.47340177433242253|\n",
      "|        01|0.44041948161046435|\n",
      "|        09| 0.4712843576033142|\n",
      "|        05|0.46973558770749213|\n",
      "|        08|0.45405980594931256|\n",
      "|        03|0.46349716518143186|\n",
      "|        02|0.45894048796506604|\n",
      "|        06|0.47605840760571516|\n",
      "|        10|0.47776483262245384|\n",
      "|        12| 0.4381261736488949|\n",
      "|        04|0.47348513794991554|\n",
      "+----------+-------------------+\n",
      "\n"
     ]
    }
   ],
   "source": [
    "taxi\\\n",
    "    .withColumn(\"trip_month\",udf_extract_month(taxi.trip_start_timestamp))\\\n",
    "    .groupBy(\"trip_month\")\\\n",
    "    .avg(\"target\").show()"
   ]
  },
  {
   "cell_type": "code",
   "execution_count": 7,
   "metadata": {},
   "outputs": [],
   "source": [
    "per_month_pd = taxi\\\n",
    "    .withColumn(\"trip_month\",udf_extract_month(taxi.trip_start_timestamp))\\\n",
    "    .groupBy(\"trip_month\")\\\n",
    "    .avg(\"target\")\\\n",
    "    .toPandas()"
   ]
  },
  {
   "cell_type": "code",
   "execution_count": 8,
   "metadata": {},
   "outputs": [
    {
     "data": {
      "text/html": [
       "<div>\n",
       "<style scoped>\n",
       "    .dataframe tbody tr th:only-of-type {\n",
       "        vertical-align: middle;\n",
       "    }\n",
       "\n",
       "    .dataframe tbody tr th {\n",
       "        vertical-align: top;\n",
       "    }\n",
       "\n",
       "    .dataframe thead th {\n",
       "        text-align: right;\n",
       "    }\n",
       "</style>\n",
       "<table border=\"1\" class=\"dataframe\">\n",
       "  <thead>\n",
       "    <tr style=\"text-align: right;\">\n",
       "      <th></th>\n",
       "      <th>trip_month</th>\n",
       "      <th>avg(target)</th>\n",
       "    </tr>\n",
       "  </thead>\n",
       "  <tbody>\n",
       "    <tr>\n",
       "      <th>0</th>\n",
       "      <td>07</td>\n",
       "      <td>0.445472</td>\n",
       "    </tr>\n",
       "    <tr>\n",
       "      <th>1</th>\n",
       "      <td>11</td>\n",
       "      <td>0.473402</td>\n",
       "    </tr>\n",
       "    <tr>\n",
       "      <th>2</th>\n",
       "      <td>01</td>\n",
       "      <td>0.440419</td>\n",
       "    </tr>\n",
       "    <tr>\n",
       "      <th>3</th>\n",
       "      <td>09</td>\n",
       "      <td>0.471284</td>\n",
       "    </tr>\n",
       "    <tr>\n",
       "      <th>4</th>\n",
       "      <td>05</td>\n",
       "      <td>0.469736</td>\n",
       "    </tr>\n",
       "  </tbody>\n",
       "</table>\n",
       "</div>"
      ],
      "text/plain": [
       "  trip_month  avg(target)\n",
       "0         07     0.445472\n",
       "1         11     0.473402\n",
       "2         01     0.440419\n",
       "3         09     0.471284\n",
       "4         05     0.469736"
      ]
     },
     "execution_count": 8,
     "metadata": {},
     "output_type": "execute_result"
    }
   ],
   "source": [
    "per_month_pd.head()"
   ]
  },
  {
   "cell_type": "code",
   "execution_count": 9,
   "metadata": {},
   "outputs": [],
   "source": [
    "%matplotlib inline"
   ]
  },
  {
   "cell_type": "code",
   "execution_count": 10,
   "metadata": {},
   "outputs": [
    {
     "data": {
      "text/plain": [
       "<matplotlib.axes._subplots.AxesSubplot at 0x7fb09147cb70>"
      ]
     },
     "execution_count": 10,
     "metadata": {},
     "output_type": "execute_result"
    },
    {
     "data": {
      "image/png": "[encoded data removed]",
      "text/plain": [
       "<Figure size 432x288 with 1 Axes>"
      ]
     },
     "metadata": {
      "needs_background": "light"
     },
     "output_type": "display_data"
    }
   ],
   "source": [
    "per_month_pd\\\n",
    "    .sort_values('trip_month')\\\n",
    "    .reset_index(drop=True)\\\n",
    "    .plot(x='trip_month',y='avg(target)')"
   ]
  },
  {
   "cell_type": "markdown",
   "metadata": {},
   "source": [
    "### Please explore more potential variables using techniques shown in previous notebook."
   ]
  },
  {
   "cell_type": "markdown",
   "metadata": {},
   "source": [
    "Utwórz zmienne oparte o relacji między wartością napiwków a kwotą przejazdu. Utworzone zmienne będą zawierały informację o:\n",
    "\n",
    "* stosunku między wartością napiwku a kwotą przejazdu,\n",
    "* zero-jedynkową flagę odnoszącą się do tego, czy napiwek został zapłacony."
   ]
  },
  {
   "cell_type": "code",
   "execution_count": 11,
   "metadata": {},
   "outputs": [
    {
     "name": "stdout",
     "output_type": "stream",
     "text": [
      "+-------------------+--------+\n",
      "|    tips_fare_ratio|has_tips|\n",
      "+-------------------+--------+\n",
      "|                0.0|   false|\n",
      "|                0.2|    true|\n",
      "|               0.24|    true|\n",
      "|                0.0|   false|\n",
      "|                0.0|   false|\n",
      "|                0.0|   false|\n",
      "|                0.0|   false|\n",
      "|0.32432432432432434|    true|\n",
      "|0.24571428571428572|    true|\n",
      "|                0.0|   false|\n",
      "+-------------------+--------+\n",
      "only showing top 10 rows\n",
      "\n"
     ]
    }
   ],
   "source": [
    "import pyspark.sql.functions as F\n",
    "\n",
    "taxi = taxi.withColumn('tips_fare_ratio', F.col('tips') / F.col('fare'))\n",
    "taxi = taxi.withColumn('has_tips', F.col('tips') > 0)\n",
    "taxi.select(['tips_fare_ratio', 'has_tips']).show(10)"
   ]
  },
  {
   "cell_type": "markdown",
   "metadata": {},
   "source": [
    "Zlicz liczbę wystąpień płatności danego typu w zależności od tego, czy został wypłacony napiwek."
   ]
  },
  {
   "cell_type": "code",
   "execution_count": 12,
   "metadata": {},
   "outputs": [
    {
     "name": "stdout",
     "output_type": "stream",
     "text": [
      "+------+--------+-------+\n",
      "|target|has_tips|  count|\n",
      "+------+--------+-------+\n",
      "|     1|   false| 327029|\n",
      "|     1|    true|6635148|\n",
      "|     0|   false|8092729|\n",
      "|     0|    true|   6989|\n",
      "+------+--------+-------+\n",
      "\n"
     ]
    }
   ],
   "source": [
    "taxi.groupBy(['target', 'has_tips'])\\\n",
    "    .count()\\\n",
    "    .show(10)"
   ]
  },
  {
   "cell_type": "markdown",
   "metadata": {},
   "source": [
    "Następnie, skorzystamy z `QuantileDiscretizer` do utworzenia *binów* opartych na wartości zmiennej odnoszącej się do długości przejazdu (wyrażonej w milach)."
   ]
  },
  {
   "cell_type": "code",
   "execution_count": 13,
   "metadata": {},
   "outputs": [],
   "source": [
    "from pyspark.ml.feature import QuantileDiscretizer\n",
    "\n",
    "try:\n",
    "    taxi = taxi.drop(F.col('trip_miles_bins'))\n",
    "except:\n",
    "    pass\n",
    "qds = QuantileDiscretizer(\n",
    "    numBuckets=5,\n",
    "    inputCol='trip_miles',\n",
    "    outputCol='trip_miles_bins'\n",
    ")\n",
    "trip_miles_qds = qds.fit(taxi)\n",
    "# add column to taxi DataFrame\n",
    "taxi = trip_miles_qds\\\n",
    "    .setHandleInvalid(\"skip\")\\\n",
    "    .transform(taxi)"
   ]
  },
  {
   "cell_type": "markdown",
   "metadata": {},
   "source": [
    "Wizualizuj zależność między *binem* a liczbą płatności danego typu."
   ]
  },
  {
   "cell_type": "code",
   "execution_count": 14,
   "metadata": {},
   "outputs": [
    {
     "data": {
      "text/plain": [
       "<seaborn.axisgrid.FacetGrid at 0x7fb09101ec88>"
      ]
     },
     "execution_count": 14,
     "metadata": {},
     "output_type": "execute_result"
    },
    {
     "data": {
      "image/png": "[encoded data removed]",
      "text/plain": [
       "<Figure size 582.375x360 with 1 Axes>"
      ]
     },
     "metadata": {
      "needs_background": "light"
     },
     "output_type": "display_data"
    }
   ],
   "source": [
    "taxi_trip_miles_bins = taxi.groupBy(['target', 'trip_miles_bins'])\\\n",
    "    .count()\\\n",
    "    .sort(['target', 'trip_miles_bins'])\\\n",
    "    .toPandas()\n",
    "\n",
    "sns.lmplot(\n",
    "    x='trip_miles_bins',\n",
    "    y='count',\n",
    "    hue='target',\n",
    "    markers=['o', 'x'],\n",
    "    data=taxi_trip_miles_bins,\n",
    "    aspect=12./8.\n",
    ")"
   ]
  },
  {
   "cell_type": "markdown",
   "metadata": {},
   "source": [
    "Następnie, sprawdź hipotezę, że taksówki, które jeżdżą rzadziej mogą bardziej preferować płatności gotówką; natomiast taksówki wykonujące wiele połączeń mogą stanowić firmy obsługujące korporacje."
   ]
  },
  {
   "cell_type": "code",
   "execution_count": 15,
   "metadata": {},
   "outputs": [],
   "source": [
    "import pyspark\n",
    "\n",
    "def discretize_columns(\n",
    "    df: pyspark.sql.dataframe.DataFrame,\n",
    "    inputCol: str,\n",
    "    outputCol: str,\n",
    "    numBuckets: int = 10\n",
    ") -> pyspark.sql.dataframe.DataFrame:\n",
    "    \"\"\"Discretize column and return DataFrame.\"\"\"\n",
    "    try:\n",
    "        df = df.drop(F.col(outputCol))\n",
    "    except:\n",
    "        pass\n",
    "    qds = QuantileDiscretizer(\n",
    "        numBuckets=numBuckets,\n",
    "        inputCol=inputCol,\n",
    "        outputCol=outputCol\n",
    "    )\n",
    "    qds_fitted = qds.fit(df)\n",
    "    # add column to taxi DataFrame\n",
    "    return qds_fitted\\\n",
    "        .setHandleInvalid(\"skip\")\\\n",
    "        .transform(df)"
   ]
  },
  {
   "cell_type": "markdown",
   "metadata": {},
   "source": [
    "Wizualizuj zależnośc między wartością *bin* a liczbą płatności danego typu."
   ]
  },
  {
   "cell_type": "code",
   "execution_count": 16,
   "metadata": {},
   "outputs": [
    {
     "data": {
      "text/plain": [
       "<seaborn.axisgrid.FacetGrid at 0x7fb0903618d0>"
      ]
     },
     "execution_count": 16,
     "metadata": {},
     "output_type": "execute_result"
    },
    {
     "data": {
      "image/png": "[encoded data removed]",
      "text/plain": [
       "<Figure size 582.375x360 with 1 Axes>"
      ]
     },
     "metadata": {
      "needs_background": "light"
     },
     "output_type": "display_data"
    }
   ],
   "source": [
    "taxi = discretize_columns(taxi, 'trip_total', 'trip_total_bins')\n",
    "\n",
    "taxi_trip_total_bins = taxi.groupBy(['target', 'trip_total_bins'])\\\n",
    "    .count()\\\n",
    "    .sort(['target', 'trip_total_bins'])\\\n",
    "    .toPandas()\n",
    "\n",
    "sns.lmplot(\n",
    "    x='trip_total_bins',\n",
    "    y='count',\n",
    "    hue='target',\n",
    "    markers=['o', 'x'],\n",
    "    data=taxi_trip_total_bins,\n",
    "    aspect=12./8.\n",
    ")"
   ]
  },
  {
   "cell_type": "code",
   "execution_count": 17,
   "metadata": {},
   "outputs": [
    {
     "data": {
      "text/plain": [
       "['taxi_id',\n",
       " 'trip_start_timestamp',\n",
       " 'trip_end_timestamp',\n",
       " 'trip_seconds',\n",
       " 'trip_miles',\n",
       " 'pickup_census_tract',\n",
       " 'dropoff_census_tract',\n",
       " 'pickup_community_area',\n",
       " 'dropoff_community_area',\n",
       " 'fare',\n",
       " 'tips',\n",
       " 'tolls',\n",
       " 'extras',\n",
       " 'trip_total',\n",
       " 'company',\n",
       " 'target',\n",
       " 'tips_fare_ratio',\n",
       " 'has_tips',\n",
       " 'trip_miles_bins',\n",
       " 'trip_total_bins']"
      ]
     },
     "execution_count": 17,
     "metadata": {},
     "output_type": "execute_result"
    }
   ],
   "source": [
    "taxi.columns"
   ]
  },
  {
   "cell_type": "code",
   "execution_count": 18,
   "metadata": {},
   "outputs": [
    {
     "name": "stdout",
     "output_type": "stream",
     "text": [
      "+------+-------------------------------------+\n",
      "|target|avg(CAST(same_community_area AS INT))|\n",
      "+------+-------------------------------------+\n",
      "|     1|                  0.19101596831728584|\n",
      "|     0|                   0.2758712773498324|\n",
      "+------+-------------------------------------+\n",
      "\n"
     ]
    }
   ],
   "source": [
    "taxi.withColumn(\n",
    "    'same_community_area',\n",
    "    F.col('pickup_community_area') == F.col('dropoff_community_area')\n",
    ")\\\n",
    "    .select(['target', 'same_community_area'])\\\n",
    "    .groupBy(['target'])\\\n",
    "    .agg(F.avg(F.col('same_community_area').cast('integer')))\\\n",
    "    .show(50)"
   ]
  },
  {
   "cell_type": "code",
   "execution_count": 19,
   "metadata": {},
   "outputs": [],
   "source": [
    "taxi = taxi.withColumn(\n",
    "    'same_community_area',\n",
    "    F.col('pickup_community_area') == F.col('dropoff_community_area')\n",
    ")"
   ]
  },
  {
   "cell_type": "markdown",
   "metadata": {},
   "source": [
    "### Write your final table"
   ]
  },
  {
   "cell_type": "code",
   "execution_count": 20,
   "metadata": {},
   "outputs": [],
   "source": [
    "from uuid import uuid4"
   ]
  },
  {
   "cell_type": "code",
   "execution_count": 21,
   "metadata": {},
   "outputs": [],
   "source": [
    "temp_name = str(uuid4())[:8]"
   ]
  },
  {
   "cell_type": "code",
   "execution_count": 22,
   "metadata": {},
   "outputs": [],
   "source": [
    "taxi.createOrReplaceTempView(temp_name)"
   ]
  },
  {
   "cell_type": "markdown",
   "metadata": {},
   "source": [
    "#### Please remember to replace n in table name with your number"
   ]
  },
  {
   "cell_type": "code",
   "execution_count": 24,
   "metadata": {},
   "outputs": [
    {
     "data": {
      "text/plain": [
       "DataFrame[]"
      ]
     },
     "execution_count": 24,
     "metadata": {},
     "output_type": "execute_result"
    }
   ],
   "source": [
    "spark.sql(\"\"\"\n",
    "    CREATE TABLE taxi.participant3 AS\n",
    "    SELECT * FROM {temp_name}\n",
    "\"\"\".format(temp_name=temp_name))"
   ]
  }
 ],
 "metadata": {
  "kernelspec": {
   "display_name": "PySpark",
   "language": "python",
   "name": "pyspark"
  },
  "language_info": {
   "codemirror_mode": {
    "name": "ipython",
    "version": 3
   },
   "file_extension": ".py",
   "mimetype": "text/x-python",
   "name": "python",
   "nbconvert_exporter": "python",
   "pygments_lexer": "ipython3",
   "version": "3.6.5"
  }
 },
 "nbformat": 4,
 "nbformat_minor": 2
}